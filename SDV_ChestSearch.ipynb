{
 "cells": [
  {
   "cell_type": "code",
   "execution_count": null,
   "id": "0d4d2099-df77-4c93-9d71-6cb2574c7c7d",
   "metadata": {},
   "outputs": [],
   "source": [
    "import xml.etree.ElementTree as ET\n",
    "import pandas as pd\n"
   ]
  },
  {
   "cell_type": "markdown",
   "id": "42e8d18f-6647-45c9-87f2-c086e44e978d",
   "metadata": {},
   "source": [
    "## Funktionen"
   ]
  },
  {
   "cell_type": "code",
   "execution_count": null,
   "id": "526270c5-bd85-42fc-80ae-65cdf5c73a7e",
   "metadata": {},
   "outputs": [],
   "source": [
    "def RGBAfromInt(argb_int):\n",
    "    red =  argb_int & 255\n",
    "    green = (argb_int >> 8) & 255\n",
    "    blue =   (argb_int >> 16) & 255\n",
    "    alpha = (argb_int >> 24) & 255\n",
    "    return (red, green, blue, alpha/255)\n",
    "\n",
    "#TODO: Pass the color columns as an additional parameter to make final table cleaner\n",
    "def chest_color(row):\n",
    "    backgroundcolor ='background-color: rgba' + str(RGBAfromInt(row.color)) \n",
    "    return pd.Series(backgroundcolor,row.index)\n",
    "\n",
    "#https://stackoverflow.com/questions/1855884/determine-font-color-based-on-background-color\n",
    "def text_color(row):\n",
    "    r,g,b,_ = RGBAfromInt(row.color)\n",
    "    textcolor = 'color: rgb(0,0,0)' if (0.299 * r + 0.587 * g + 0.114 * b)/255 > 0.5 else 'color: rgb(255,255,255)'\n",
    "    return pd.Series(textcolor ,row.index)\n",
    "\n",
    "\n",
    "def get_locations(s):\n",
    "    return df[df['DisplayName'] == s].style.apply(chest_color, axis=1).apply(text_color,axis=1)\n",
    "\n",
    "# Put the contents of all chests into a dataframe\n",
    "def get_chest_inventory(savefile):\n",
    "    tree = ET.parse(savefile)\n",
    "    root = tree.getroot()\n",
    "    inventory_list = []\n",
    "    for i in range(len(list(root[1]))):\n",
    "        location = root[1][i]\n",
    "        location_name = location.find('name').text\n",
    "\n",
    "        objects = location.find('objects') # alle overworld objects, like buildinds, sprinklers, chests etc.\n",
    "        for item in objects:\n",
    "            value = item.find('value').find('Object')\n",
    "            if value.find('DisplayName').text == chest_name: # yay a chest\n",
    "                X = int(item.find('key').find('Vector2').find('X').text)\n",
    "                Y = int(item.find('key').find('Vector2').find('Y').text)\n",
    "                color = int(value.find('playerChoiceColor')[4].text)\n",
    "                \n",
    "                for it in value.find('items'): # all items in one chest\n",
    "                    cur_item = it.find('DisplayName').text\n",
    "                    stack = int(it.find('Stack').text)\n",
    "                    quality = 'None' if it.find('quality') is None else int(it.find('quality').text)\n",
    "                    inventory_list.append({'DisplayName':cur_item,'quality':quality,'stack':stack,'location': location_name,'X' :X,'Y':Y,'color':color})\n",
    "    df = pd.DataFrame(inventory_list)\n",
    "    df['quality'] = df['quality'].apply(lambda x: 'iridium' if x ==4  else ('gold' if x == 2 else ('silver' if x==1 else ('normal' if x == 0 else x))))\n",
    "    \n",
    "    return df\n"
   ]
  },
  {
   "cell_type": "markdown",
   "id": "d43e86cd-f42b-456c-8170-67a400534729",
   "metadata": {},
   "source": [
    "## Settings"
   ]
  },
  {
   "cell_type": "code",
   "execution_count": null,
   "id": "e2290985-ddce-4523-9a30-8382dc7a915b",
   "metadata": {},
   "outputs": [],
   "source": [
    "pd.set_option('display.max_rows', 100) # how many rows to show at most\n",
    "savefile = 'Twitch_292866993' # Your savefile, add rest of path if needed\n",
    "chest_name = 'Kiste' # Change this for other languages"
   ]
  },
  {
   "cell_type": "markdown",
   "id": "97e7d42b-b3fa-4053-a90f-a654edcde9f4",
   "metadata": {},
   "source": [
    "## Get the chest contents"
   ]
  },
  {
   "cell_type": "code",
   "execution_count": null,
   "id": "c30521f5-4ebd-49ee-8243-4ab43eed249d",
   "metadata": {},
   "outputs": [],
   "source": [
    "df = get_chest_inventory(savefile)"
   ]
  },
  {
   "cell_type": "markdown",
   "id": "724417d4-66e2-4f1c-92e1-80aa0b2d25e5",
   "metadata": {},
   "source": [
    "## Search for one specific item"
   ]
  },
  {
   "cell_type": "code",
   "execution_count": null,
   "id": "25c480df-43f0-4c9f-838c-a81ebafc721f",
   "metadata": {},
   "outputs": [],
   "source": [
    "get_locations('Holz')"
   ]
  },
  {
   "cell_type": "markdown",
   "id": "685b9ad0-c5d5-4643-9dd8-958c6b12729c",
   "metadata": {},
   "source": [
    "## Show all items"
   ]
  },
  {
   "cell_type": "code",
   "execution_count": null,
   "id": "447ffa4c-5ef0-4c30-b065-ee5dfbf27175",
   "metadata": {
    "tags": []
   },
   "outputs": [],
   "source": [
    "df.style.apply(chest_color, axis=1).apply(text_color,axis=1)#.to_html('inventory.html')"
   ]
  },
  {
   "cell_type": "markdown",
   "id": "5c655aa3-0da7-4b67-9750-d49eb965b016",
   "metadata": {},
   "source": [
    "## Group items by name and quality"
   ]
  },
  {
   "cell_type": "code",
   "execution_count": null,
   "id": "b7338e72-c895-4dbc-897b-b81aa7b0ba70",
   "metadata": {
    "tags": []
   },
   "outputs": [],
   "source": [
    "df[['DisplayName','quality','stack']].groupby(['DisplayName','quality']).sum()"
   ]
  },
  {
   "cell_type": "markdown",
   "id": "24f90c71-af85-4a58-b9db-e1b2be29ca9d",
   "metadata": {},
   "source": [
    "## Group items by name\n"
   ]
  },
  {
   "cell_type": "code",
   "execution_count": null,
   "id": "285aa095-60b8-4ce6-85e0-32265560a6db",
   "metadata": {},
   "outputs": [],
   "source": [
    "df[['DisplayName','stack']].groupby(['DisplayName']).sum()"
   ]
  }
 ],
 "metadata": {
  "kernelspec": {
   "display_name": "Python 3",
   "language": "python",
   "name": "python3"
  },
  "language_info": {
   "codemirror_mode": {
    "name": "ipython",
    "version": 3
   },
   "file_extension": ".py",
   "mimetype": "text/x-python",
   "name": "python",
   "nbconvert_exporter": "python",
   "pygments_lexer": "ipython3",
   "version": "3.7.6"
  }
 },
 "nbformat": 4,
 "nbformat_minor": 5
}
